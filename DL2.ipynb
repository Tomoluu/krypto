{
 "cells": [
  {
   "cell_type": "code",
   "execution_count": 1,
   "id": "56be03cf",
   "metadata": {},
   "outputs": [],
   "source": [
    "# Importing the libraries\n",
    "import numpy as np\n",
    "import matplotlib.pyplot as plt\n",
    "plt.style.use('fivethirtyeight')\n",
    "import pandas as pd\n",
    "from sklearn.preprocessing import MinMaxScaler\n",
    "from keras.models import Sequential\n",
    "from keras.layers import Dense, LSTM, Dropout, GRU, Bidirectional\n",
    "from keras.optimizers import SGD\n",
    "import math\n",
    "from sklearn.metrics import mean_squared_error"
   ]
  },
  {
   "cell_type": "code",
   "execution_count": 2,
   "id": "d6a7f925",
   "metadata": {},
   "outputs": [],
   "source": [
    "# Some functions to help out with\n",
    "def plot_predictions(test,predicted):\n",
    "    plt.plot(test, color='red',label='Real IBM Stock Price')\n",
    "    plt.plot(predicted, color='blue',label='Predicted IBM Stock Price')\n",
    "    plt.title('IBM Stock Price Prediction')\n",
    "    plt.xlabel('Time')\n",
    "    plt.ylabel('IBM Stock Price')\n",
    "    plt.legend()\n",
    "    plt.show()\n",
    "\n",
    "def return_rmse(test,predicted):\n",
    "    rmse = math.sqrt(mean_squared_error(test, predicted))\n",
    "    print(\"The root mean squared error is {}.\".format(rmse))"
   ]
  },
  {
   "cell_type": "code",
   "execution_count": 4,
   "id": "0edb967a",
   "metadata": {},
   "outputs": [],
   "source": [
    "import os"
   ]
  },
  {
   "cell_type": "code",
   "execution_count": 6,
   "id": "44707c6a",
   "metadata": {},
   "outputs": [
    {
     "data": {
      "text/plain": [
       "['dane',\n",
       " 'archive.zip',\n",
       " 'Analiza-danych.ipynb',\n",
       " 'login_file.json',\n",
       " 'archive',\n",
       " 'Analiza danych',\n",
       " 'DL.ipynb',\n",
       " '.ipynb_checkpoints']"
      ]
     },
     "execution_count": 6,
     "metadata": {},
     "output_type": "execute_result"
    }
   ],
   "source": [
    "files = os.listdir(os.curdir)\n",
    "files"
   ]
  },
  {
   "cell_type": "code",
   "execution_count": 109,
   "id": "e3ff5a0c",
   "metadata": {},
   "outputs": [],
   "source": [
    "df = pd.read_csv('/home/tomo/krypto/dane/xlmusd2.csv')\n",
    "df = df.set_index('time')"
   ]
  },
  {
   "cell_type": "code",
   "execution_count": 111,
   "id": "2550114d",
   "metadata": {},
   "outputs": [
    {
     "data": {
      "text/html": [
       "<div>\n",
       "<style scoped>\n",
       "    .dataframe tbody tr th:only-of-type {\n",
       "        vertical-align: middle;\n",
       "    }\n",
       "\n",
       "    .dataframe tbody tr th {\n",
       "        vertical-align: top;\n",
       "    }\n",
       "\n",
       "    .dataframe thead th {\n",
       "        text-align: right;\n",
       "    }\n",
       "</style>\n",
       "<table border=\"1\" class=\"dataframe\">\n",
       "  <thead>\n",
       "    <tr style=\"text-align: right;\">\n",
       "      <th></th>\n",
       "      <th>time.1</th>\n",
       "      <th>open</th>\n",
       "      <th>close</th>\n",
       "      <th>high</th>\n",
       "      <th>low</th>\n",
       "      <th>volume</th>\n",
       "      <th>slope</th>\n",
       "      <th>signal</th>\n",
       "      <th>min</th>\n",
       "    </tr>\n",
       "    <tr>\n",
       "      <th>time</th>\n",
       "      <th></th>\n",
       "      <th></th>\n",
       "      <th></th>\n",
       "      <th></th>\n",
       "      <th></th>\n",
       "      <th></th>\n",
       "      <th></th>\n",
       "      <th></th>\n",
       "      <th></th>\n",
       "    </tr>\n",
       "  </thead>\n",
       "  <tbody>\n",
       "    <tr>\n",
       "      <th>2018-05-01 11:27:00</th>\n",
       "      <td>1525174020000</td>\n",
       "      <td>0.45000</td>\n",
       "      <td>0.44989</td>\n",
       "      <td>0.45000</td>\n",
       "      <td>0.44989</td>\n",
       "      <td>20080.000000</td>\n",
       "      <td>0.017080</td>\n",
       "      <td>2.0</td>\n",
       "      <td>0</td>\n",
       "    </tr>\n",
       "    <tr>\n",
       "      <th>2018-05-01 11:28:00</th>\n",
       "      <td>1525174080000</td>\n",
       "      <td>0.46660</td>\n",
       "      <td>0.46660</td>\n",
       "      <td>0.46660</td>\n",
       "      <td>0.46660</td>\n",
       "      <td>2231.749404</td>\n",
       "      <td>0.017851</td>\n",
       "      <td>2.0</td>\n",
       "      <td>1</td>\n",
       "    </tr>\n",
       "    <tr>\n",
       "      <th>2018-05-01 11:29:00</th>\n",
       "      <td>1525174140000</td>\n",
       "      <td>0.45000</td>\n",
       "      <td>0.45000</td>\n",
       "      <td>0.45000</td>\n",
       "      <td>0.45000</td>\n",
       "      <td>250.000000</td>\n",
       "      <td>0.020869</td>\n",
       "      <td>2.0</td>\n",
       "      <td>2</td>\n",
       "    </tr>\n",
       "    <tr>\n",
       "      <th>2018-05-01 11:30:00</th>\n",
       "      <td>1525174200000</td>\n",
       "      <td>0.45998</td>\n",
       "      <td>0.45998</td>\n",
       "      <td>0.45998</td>\n",
       "      <td>0.45998</td>\n",
       "      <td>200.000000</td>\n",
       "      <td>0.021373</td>\n",
       "      <td>2.0</td>\n",
       "      <td>3</td>\n",
       "    </tr>\n",
       "    <tr>\n",
       "      <th>2018-05-01 11:31:00</th>\n",
       "      <td>1525174260000</td>\n",
       "      <td>0.45878</td>\n",
       "      <td>0.45878</td>\n",
       "      <td>0.45878</td>\n",
       "      <td>0.45878</td>\n",
       "      <td>2300.000000</td>\n",
       "      <td>0.023025</td>\n",
       "      <td>2.0</td>\n",
       "      <td>4</td>\n",
       "    </tr>\n",
       "    <tr>\n",
       "      <th>...</th>\n",
       "      <td>...</td>\n",
       "      <td>...</td>\n",
       "      <td>...</td>\n",
       "      <td>...</td>\n",
       "      <td>...</td>\n",
       "      <td>...</td>\n",
       "      <td>...</td>\n",
       "      <td>...</td>\n",
       "      <td>...</td>\n",
       "    </tr>\n",
       "    <tr>\n",
       "      <th>2021-04-10 06:20:00</th>\n",
       "      <td>1618035600000</td>\n",
       "      <td>0.50138</td>\n",
       "      <td>0.49995</td>\n",
       "      <td>0.50191</td>\n",
       "      <td>0.49995</td>\n",
       "      <td>58125.931941</td>\n",
       "      <td>NaN</td>\n",
       "      <td>NaN</td>\n",
       "      <td>267525</td>\n",
       "    </tr>\n",
       "    <tr>\n",
       "      <th>2021-04-10 06:21:00</th>\n",
       "      <td>1618035660000</td>\n",
       "      <td>0.50000</td>\n",
       "      <td>0.49989</td>\n",
       "      <td>0.50000</td>\n",
       "      <td>0.49989</td>\n",
       "      <td>667.207260</td>\n",
       "      <td>NaN</td>\n",
       "      <td>NaN</td>\n",
       "      <td>267526</td>\n",
       "    </tr>\n",
       "    <tr>\n",
       "      <th>2021-04-10 06:22:00</th>\n",
       "      <td>1618035720000</td>\n",
       "      <td>0.50000</td>\n",
       "      <td>0.50000</td>\n",
       "      <td>0.50000</td>\n",
       "      <td>0.50000</td>\n",
       "      <td>0.000008</td>\n",
       "      <td>NaN</td>\n",
       "      <td>NaN</td>\n",
       "      <td>267527</td>\n",
       "    </tr>\n",
       "    <tr>\n",
       "      <th>2021-04-10 06:26:00</th>\n",
       "      <td>1618035960000</td>\n",
       "      <td>0.50064</td>\n",
       "      <td>0.50064</td>\n",
       "      <td>0.50064</td>\n",
       "      <td>0.50064</td>\n",
       "      <td>33.654337</td>\n",
       "      <td>NaN</td>\n",
       "      <td>NaN</td>\n",
       "      <td>267528</td>\n",
       "    </tr>\n",
       "    <tr>\n",
       "      <th>2021-04-10 06:29:00</th>\n",
       "      <td>1618036140000</td>\n",
       "      <td>0.50065</td>\n",
       "      <td>0.50065</td>\n",
       "      <td>0.50065</td>\n",
       "      <td>0.50065</td>\n",
       "      <td>1000.000000</td>\n",
       "      <td>NaN</td>\n",
       "      <td>NaN</td>\n",
       "      <td>267529</td>\n",
       "    </tr>\n",
       "  </tbody>\n",
       "</table>\n",
       "<p>267530 rows × 9 columns</p>\n",
       "</div>"
      ],
      "text/plain": [
       "                            time.1     open    close     high      low  \\\n",
       "time                                                                     \n",
       "2018-05-01 11:27:00  1525174020000  0.45000  0.44989  0.45000  0.44989   \n",
       "2018-05-01 11:28:00  1525174080000  0.46660  0.46660  0.46660  0.46660   \n",
       "2018-05-01 11:29:00  1525174140000  0.45000  0.45000  0.45000  0.45000   \n",
       "2018-05-01 11:30:00  1525174200000  0.45998  0.45998  0.45998  0.45998   \n",
       "2018-05-01 11:31:00  1525174260000  0.45878  0.45878  0.45878  0.45878   \n",
       "...                            ...      ...      ...      ...      ...   \n",
       "2021-04-10 06:20:00  1618035600000  0.50138  0.49995  0.50191  0.49995   \n",
       "2021-04-10 06:21:00  1618035660000  0.50000  0.49989  0.50000  0.49989   \n",
       "2021-04-10 06:22:00  1618035720000  0.50000  0.50000  0.50000  0.50000   \n",
       "2021-04-10 06:26:00  1618035960000  0.50064  0.50064  0.50064  0.50064   \n",
       "2021-04-10 06:29:00  1618036140000  0.50065  0.50065  0.50065  0.50065   \n",
       "\n",
       "                           volume     slope  signal     min  \n",
       "time                                                         \n",
       "2018-05-01 11:27:00  20080.000000  0.017080     2.0       0  \n",
       "2018-05-01 11:28:00   2231.749404  0.017851     2.0       1  \n",
       "2018-05-01 11:29:00    250.000000  0.020869     2.0       2  \n",
       "2018-05-01 11:30:00    200.000000  0.021373     2.0       3  \n",
       "2018-05-01 11:31:00   2300.000000  0.023025     2.0       4  \n",
       "...                           ...       ...     ...     ...  \n",
       "2021-04-10 06:20:00  58125.931941       NaN     NaN  267525  \n",
       "2021-04-10 06:21:00    667.207260       NaN     NaN  267526  \n",
       "2021-04-10 06:22:00      0.000008       NaN     NaN  267527  \n",
       "2021-04-10 06:26:00     33.654337       NaN     NaN  267528  \n",
       "2021-04-10 06:29:00   1000.000000       NaN     NaN  267529  \n",
       "\n",
       "[267530 rows x 9 columns]"
      ]
     },
     "execution_count": 111,
     "metadata": {},
     "output_type": "execute_result"
    }
   ],
   "source": [
    "df"
   ]
  },
  {
   "cell_type": "code",
   "execution_count": 110,
   "id": "3bf6639c",
   "metadata": {},
   "outputs": [
    {
     "ename": "KeyError",
     "evalue": "\"None of ['time'] are in the columns\"",
     "output_type": "error",
     "traceback": [
      "\u001b[0;31m---------------------------------------------------------------------------\u001b[0m",
      "\u001b[0;31mKeyError\u001b[0m                                  Traceback (most recent call last)",
      "\u001b[0;32m<ipython-input-110-3f8e120bcfb8>\u001b[0m in \u001b[0;36m<module>\u001b[0;34m\u001b[0m\n\u001b[0;32m----> 1\u001b[0;31m \u001b[0mdf\u001b[0m \u001b[0;34m=\u001b[0m \u001b[0mdf\u001b[0m\u001b[0;34m.\u001b[0m\u001b[0mset_index\u001b[0m\u001b[0;34m(\u001b[0m\u001b[0;34m'time'\u001b[0m\u001b[0;34m)\u001b[0m\u001b[0;34m\u001b[0m\u001b[0;34m\u001b[0m\u001b[0m\n\u001b[0m",
      "\u001b[0;32m~/.local/lib/python3.8/site-packages/pandas/core/frame.py\u001b[0m in \u001b[0;36mset_index\u001b[0;34m(self, keys, drop, append, inplace, verify_integrity)\u001b[0m\n\u001b[1;32m   4725\u001b[0m \u001b[0;34m\u001b[0m\u001b[0m\n\u001b[1;32m   4726\u001b[0m         \u001b[0;32mif\u001b[0m \u001b[0mmissing\u001b[0m\u001b[0;34m:\u001b[0m\u001b[0;34m\u001b[0m\u001b[0;34m\u001b[0m\u001b[0m\n\u001b[0;32m-> 4727\u001b[0;31m             \u001b[0;32mraise\u001b[0m \u001b[0mKeyError\u001b[0m\u001b[0;34m(\u001b[0m\u001b[0;34mf\"None of {missing} are in the columns\"\u001b[0m\u001b[0;34m)\u001b[0m\u001b[0;34m\u001b[0m\u001b[0;34m\u001b[0m\u001b[0m\n\u001b[0m\u001b[1;32m   4728\u001b[0m \u001b[0;34m\u001b[0m\u001b[0m\n\u001b[1;32m   4729\u001b[0m         \u001b[0;32mif\u001b[0m \u001b[0minplace\u001b[0m\u001b[0;34m:\u001b[0m\u001b[0;34m\u001b[0m\u001b[0;34m\u001b[0m\u001b[0m\n",
      "\u001b[0;31mKeyError\u001b[0m: \"None of ['time'] are in the columns\""
     ]
    }
   ],
   "source": [
    "df = df.set_index('time')"
   ]
  },
  {
   "cell_type": "code",
   "execution_count": 112,
   "id": "48879523",
   "metadata": {},
   "outputs": [],
   "source": [
    "training_set = df[:'2020'].iloc[:,1:2].values\n",
    "test_set = df['2020':].iloc[:,1:2].values"
   ]
  },
  {
   "cell_type": "code",
   "execution_count": 24,
   "id": "49bc0d51",
   "metadata": {},
   "outputs": [
    {
     "data": {
      "text/plain": [
       "Index(['time.1', 'open', 'close', 'high', 'low', 'volume', 'slope', 'signal',\n",
       "       'min'],\n",
       "      dtype='object')"
      ]
     },
     "execution_count": 24,
     "metadata": {},
     "output_type": "execute_result"
    }
   ],
   "source": [
    "df.columns"
   ]
  },
  {
   "cell_type": "code",
   "execution_count": 28,
   "id": "13b0dc6b",
   "metadata": {},
   "outputs": [
    {
     "data": {
      "text/html": [
       "<div>\n",
       "<style scoped>\n",
       "    .dataframe tbody tr th:only-of-type {\n",
       "        vertical-align: middle;\n",
       "    }\n",
       "\n",
       "    .dataframe tbody tr th {\n",
       "        vertical-align: top;\n",
       "    }\n",
       "\n",
       "    .dataframe thead th {\n",
       "        text-align: right;\n",
       "    }\n",
       "</style>\n",
       "<table border=\"1\" class=\"dataframe\">\n",
       "  <thead>\n",
       "    <tr style=\"text-align: right;\">\n",
       "      <th></th>\n",
       "      <th>time.1</th>\n",
       "      <th>open</th>\n",
       "      <th>close</th>\n",
       "      <th>high</th>\n",
       "      <th>low</th>\n",
       "      <th>volume</th>\n",
       "      <th>signal</th>\n",
       "    </tr>\n",
       "    <tr>\n",
       "      <th>time</th>\n",
       "      <th></th>\n",
       "      <th></th>\n",
       "      <th></th>\n",
       "      <th></th>\n",
       "      <th></th>\n",
       "      <th></th>\n",
       "      <th></th>\n",
       "    </tr>\n",
       "  </thead>\n",
       "  <tbody>\n",
       "    <tr>\n",
       "      <th>2020-01-01 00:01:00</th>\n",
       "      <td>1577836860000</td>\n",
       "      <td>0.045138</td>\n",
       "      <td>0.045138</td>\n",
       "      <td>0.045138</td>\n",
       "      <td>0.045138</td>\n",
       "      <td>823.142363</td>\n",
       "      <td>1.0</td>\n",
       "    </tr>\n",
       "    <tr>\n",
       "      <th>2020-01-01 00:03:00</th>\n",
       "      <td>1577836980000</td>\n",
       "      <td>0.045031</td>\n",
       "      <td>0.045023</td>\n",
       "      <td>0.045037</td>\n",
       "      <td>0.045023</td>\n",
       "      <td>5699.162900</td>\n",
       "      <td>1.0</td>\n",
       "    </tr>\n",
       "    <tr>\n",
       "      <th>2020-01-01 00:04:00</th>\n",
       "      <td>1577837040000</td>\n",
       "      <td>0.045001</td>\n",
       "      <td>0.045001</td>\n",
       "      <td>0.045001</td>\n",
       "      <td>0.045001</td>\n",
       "      <td>474.896100</td>\n",
       "      <td>1.0</td>\n",
       "    </tr>\n",
       "    <tr>\n",
       "      <th>2020-01-01 00:05:00</th>\n",
       "      <td>1577837100000</td>\n",
       "      <td>0.044995</td>\n",
       "      <td>0.044994</td>\n",
       "      <td>0.044995</td>\n",
       "      <td>0.044994</td>\n",
       "      <td>2244.576100</td>\n",
       "      <td>1.0</td>\n",
       "    </tr>\n",
       "    <tr>\n",
       "      <th>2020-01-01 01:43:00</th>\n",
       "      <td>1577842980000</td>\n",
       "      <td>0.045251</td>\n",
       "      <td>0.045251</td>\n",
       "      <td>0.045251</td>\n",
       "      <td>0.045251</td>\n",
       "      <td>300.828366</td>\n",
       "      <td>1.0</td>\n",
       "    </tr>\n",
       "    <tr>\n",
       "      <th>...</th>\n",
       "      <td>...</td>\n",
       "      <td>...</td>\n",
       "      <td>...</td>\n",
       "      <td>...</td>\n",
       "      <td>...</td>\n",
       "      <td>...</td>\n",
       "      <td>...</td>\n",
       "    </tr>\n",
       "    <tr>\n",
       "      <th>2021-04-10 06:20:00</th>\n",
       "      <td>1618035600000</td>\n",
       "      <td>0.501380</td>\n",
       "      <td>0.499950</td>\n",
       "      <td>0.501910</td>\n",
       "      <td>0.499950</td>\n",
       "      <td>58125.931941</td>\n",
       "      <td>NaN</td>\n",
       "    </tr>\n",
       "    <tr>\n",
       "      <th>2021-04-10 06:21:00</th>\n",
       "      <td>1618035660000</td>\n",
       "      <td>0.500000</td>\n",
       "      <td>0.499890</td>\n",
       "      <td>0.500000</td>\n",
       "      <td>0.499890</td>\n",
       "      <td>667.207260</td>\n",
       "      <td>NaN</td>\n",
       "    </tr>\n",
       "    <tr>\n",
       "      <th>2021-04-10 06:22:00</th>\n",
       "      <td>1618035720000</td>\n",
       "      <td>0.500000</td>\n",
       "      <td>0.500000</td>\n",
       "      <td>0.500000</td>\n",
       "      <td>0.500000</td>\n",
       "      <td>0.000008</td>\n",
       "      <td>NaN</td>\n",
       "    </tr>\n",
       "    <tr>\n",
       "      <th>2021-04-10 06:26:00</th>\n",
       "      <td>1618035960000</td>\n",
       "      <td>0.500640</td>\n",
       "      <td>0.500640</td>\n",
       "      <td>0.500640</td>\n",
       "      <td>0.500640</td>\n",
       "      <td>33.654337</td>\n",
       "      <td>NaN</td>\n",
       "    </tr>\n",
       "    <tr>\n",
       "      <th>2021-04-10 06:29:00</th>\n",
       "      <td>1618036140000</td>\n",
       "      <td>0.500650</td>\n",
       "      <td>0.500650</td>\n",
       "      <td>0.500650</td>\n",
       "      <td>0.500650</td>\n",
       "      <td>1000.000000</td>\n",
       "      <td>NaN</td>\n",
       "    </tr>\n",
       "  </tbody>\n",
       "</table>\n",
       "<p>174123 rows × 7 columns</p>\n",
       "</div>"
      ],
      "text/plain": [
       "                            time.1      open     close      high       low  \\\n",
       "time                                                                         \n",
       "2020-01-01 00:01:00  1577836860000  0.045138  0.045138  0.045138  0.045138   \n",
       "2020-01-01 00:03:00  1577836980000  0.045031  0.045023  0.045037  0.045023   \n",
       "2020-01-01 00:04:00  1577837040000  0.045001  0.045001  0.045001  0.045001   \n",
       "2020-01-01 00:05:00  1577837100000  0.044995  0.044994  0.044995  0.044994   \n",
       "2020-01-01 01:43:00  1577842980000  0.045251  0.045251  0.045251  0.045251   \n",
       "...                            ...       ...       ...       ...       ...   \n",
       "2021-04-10 06:20:00  1618035600000  0.501380  0.499950  0.501910  0.499950   \n",
       "2021-04-10 06:21:00  1618035660000  0.500000  0.499890  0.500000  0.499890   \n",
       "2021-04-10 06:22:00  1618035720000  0.500000  0.500000  0.500000  0.500000   \n",
       "2021-04-10 06:26:00  1618035960000  0.500640  0.500640  0.500640  0.500640   \n",
       "2021-04-10 06:29:00  1618036140000  0.500650  0.500650  0.500650  0.500650   \n",
       "\n",
       "                           volume  signal  \n",
       "time                                       \n",
       "2020-01-01 00:01:00    823.142363     1.0  \n",
       "2020-01-01 00:03:00   5699.162900     1.0  \n",
       "2020-01-01 00:04:00    474.896100     1.0  \n",
       "2020-01-01 00:05:00   2244.576100     1.0  \n",
       "2020-01-01 01:43:00    300.828366     1.0  \n",
       "...                           ...     ...  \n",
       "2021-04-10 06:20:00  58125.931941     NaN  \n",
       "2021-04-10 06:21:00    667.207260     NaN  \n",
       "2021-04-10 06:22:00      0.000008     NaN  \n",
       "2021-04-10 06:26:00     33.654337     NaN  \n",
       "2021-04-10 06:29:00   1000.000000     NaN  \n",
       "\n",
       "[174123 rows x 7 columns]"
      ]
     },
     "execution_count": 28,
     "metadata": {},
     "output_type": "execute_result"
    }
   ],
   "source": [
    "df['2020':].loc[:,['time.1', 'open', 'close', 'high', 'low', 'volume', 'signal']]"
   ]
  },
  {
   "cell_type": "code",
   "execution_count": 31,
   "id": "e4b3245c",
   "metadata": {},
   "outputs": [
    {
     "data": {
      "text/plain": [
       "array([[0.45    ],\n",
       "       [0.4666  ],\n",
       "       [0.45    ],\n",
       "       ...,\n",
       "       [0.04518 ],\n",
       "       [0.045059],\n",
       "       [0.045138]])"
      ]
     },
     "execution_count": 31,
     "metadata": {},
     "output_type": "execute_result"
    }
   ],
   "source": [
    "training_set"
   ]
  },
  {
   "cell_type": "code",
   "execution_count": 37,
   "id": "9ba4f7bf",
   "metadata": {},
   "outputs": [
    {
     "data": {
      "text/html": [
       "<div>\n",
       "<style scoped>\n",
       "    .dataframe tbody tr th:only-of-type {\n",
       "        vertical-align: middle;\n",
       "    }\n",
       "\n",
       "    .dataframe tbody tr th {\n",
       "        vertical-align: top;\n",
       "    }\n",
       "\n",
       "    .dataframe thead th {\n",
       "        text-align: right;\n",
       "    }\n",
       "</style>\n",
       "<table border=\"1\" class=\"dataframe\">\n",
       "  <thead>\n",
       "    <tr style=\"text-align: right;\">\n",
       "      <th></th>\n",
       "      <th>time.1</th>\n",
       "      <th>open</th>\n",
       "      <th>close</th>\n",
       "      <th>high</th>\n",
       "      <th>low</th>\n",
       "      <th>volume</th>\n",
       "      <th>slope</th>\n",
       "      <th>signal</th>\n",
       "      <th>min</th>\n",
       "    </tr>\n",
       "    <tr>\n",
       "      <th>time</th>\n",
       "      <th></th>\n",
       "      <th></th>\n",
       "      <th></th>\n",
       "      <th></th>\n",
       "      <th></th>\n",
       "      <th></th>\n",
       "      <th></th>\n",
       "      <th></th>\n",
       "      <th></th>\n",
       "    </tr>\n",
       "  </thead>\n",
       "  <tbody>\n",
       "    <tr>\n",
       "      <th>2018-05-01 11:27:00</th>\n",
       "      <td>1525174020000</td>\n",
       "      <td>0.45000</td>\n",
       "      <td>0.44989</td>\n",
       "      <td>0.45000</td>\n",
       "      <td>0.44989</td>\n",
       "      <td>20080.000000</td>\n",
       "      <td>0.017080</td>\n",
       "      <td>1.0</td>\n",
       "      <td>0</td>\n",
       "    </tr>\n",
       "    <tr>\n",
       "      <th>2018-05-01 11:28:00</th>\n",
       "      <td>1525174080000</td>\n",
       "      <td>0.46660</td>\n",
       "      <td>0.46660</td>\n",
       "      <td>0.46660</td>\n",
       "      <td>0.46660</td>\n",
       "      <td>2231.749404</td>\n",
       "      <td>0.017851</td>\n",
       "      <td>1.0</td>\n",
       "      <td>1</td>\n",
       "    </tr>\n",
       "    <tr>\n",
       "      <th>2018-05-01 11:29:00</th>\n",
       "      <td>1525174140000</td>\n",
       "      <td>0.45000</td>\n",
       "      <td>0.45000</td>\n",
       "      <td>0.45000</td>\n",
       "      <td>0.45000</td>\n",
       "      <td>250.000000</td>\n",
       "      <td>0.020869</td>\n",
       "      <td>1.0</td>\n",
       "      <td>2</td>\n",
       "    </tr>\n",
       "    <tr>\n",
       "      <th>2018-05-01 11:30:00</th>\n",
       "      <td>1525174200000</td>\n",
       "      <td>0.45998</td>\n",
       "      <td>0.45998</td>\n",
       "      <td>0.45998</td>\n",
       "      <td>0.45998</td>\n",
       "      <td>200.000000</td>\n",
       "      <td>0.021373</td>\n",
       "      <td>1.0</td>\n",
       "      <td>3</td>\n",
       "    </tr>\n",
       "    <tr>\n",
       "      <th>2018-05-01 11:31:00</th>\n",
       "      <td>1525174260000</td>\n",
       "      <td>0.45878</td>\n",
       "      <td>0.45878</td>\n",
       "      <td>0.45878</td>\n",
       "      <td>0.45878</td>\n",
       "      <td>2300.000000</td>\n",
       "      <td>0.023025</td>\n",
       "      <td>1.0</td>\n",
       "      <td>4</td>\n",
       "    </tr>\n",
       "    <tr>\n",
       "      <th>...</th>\n",
       "      <td>...</td>\n",
       "      <td>...</td>\n",
       "      <td>...</td>\n",
       "      <td>...</td>\n",
       "      <td>...</td>\n",
       "      <td>...</td>\n",
       "      <td>...</td>\n",
       "      <td>...</td>\n",
       "      <td>...</td>\n",
       "    </tr>\n",
       "    <tr>\n",
       "      <th>2021-04-10 06:20:00</th>\n",
       "      <td>1618035600000</td>\n",
       "      <td>0.50138</td>\n",
       "      <td>0.49995</td>\n",
       "      <td>0.50191</td>\n",
       "      <td>0.49995</td>\n",
       "      <td>58125.931941</td>\n",
       "      <td>NaN</td>\n",
       "      <td>NaN</td>\n",
       "      <td>267525</td>\n",
       "    </tr>\n",
       "    <tr>\n",
       "      <th>2021-04-10 06:21:00</th>\n",
       "      <td>1618035660000</td>\n",
       "      <td>0.50000</td>\n",
       "      <td>0.49989</td>\n",
       "      <td>0.50000</td>\n",
       "      <td>0.49989</td>\n",
       "      <td>667.207260</td>\n",
       "      <td>NaN</td>\n",
       "      <td>NaN</td>\n",
       "      <td>267526</td>\n",
       "    </tr>\n",
       "    <tr>\n",
       "      <th>2021-04-10 06:22:00</th>\n",
       "      <td>1618035720000</td>\n",
       "      <td>0.50000</td>\n",
       "      <td>0.50000</td>\n",
       "      <td>0.50000</td>\n",
       "      <td>0.50000</td>\n",
       "      <td>0.000008</td>\n",
       "      <td>NaN</td>\n",
       "      <td>NaN</td>\n",
       "      <td>267527</td>\n",
       "    </tr>\n",
       "    <tr>\n",
       "      <th>2021-04-10 06:26:00</th>\n",
       "      <td>1618035960000</td>\n",
       "      <td>0.50064</td>\n",
       "      <td>0.50064</td>\n",
       "      <td>0.50064</td>\n",
       "      <td>0.50064</td>\n",
       "      <td>33.654337</td>\n",
       "      <td>NaN</td>\n",
       "      <td>NaN</td>\n",
       "      <td>267528</td>\n",
       "    </tr>\n",
       "    <tr>\n",
       "      <th>2021-04-10 06:29:00</th>\n",
       "      <td>1618036140000</td>\n",
       "      <td>0.50065</td>\n",
       "      <td>0.50065</td>\n",
       "      <td>0.50065</td>\n",
       "      <td>0.50065</td>\n",
       "      <td>1000.000000</td>\n",
       "      <td>NaN</td>\n",
       "      <td>NaN</td>\n",
       "      <td>267529</td>\n",
       "    </tr>\n",
       "  </tbody>\n",
       "</table>\n",
       "<p>267530 rows × 9 columns</p>\n",
       "</div>"
      ],
      "text/plain": [
       "                            time.1     open    close     high      low  \\\n",
       "time                                                                     \n",
       "2018-05-01 11:27:00  1525174020000  0.45000  0.44989  0.45000  0.44989   \n",
       "2018-05-01 11:28:00  1525174080000  0.46660  0.46660  0.46660  0.46660   \n",
       "2018-05-01 11:29:00  1525174140000  0.45000  0.45000  0.45000  0.45000   \n",
       "2018-05-01 11:30:00  1525174200000  0.45998  0.45998  0.45998  0.45998   \n",
       "2018-05-01 11:31:00  1525174260000  0.45878  0.45878  0.45878  0.45878   \n",
       "...                            ...      ...      ...      ...      ...   \n",
       "2021-04-10 06:20:00  1618035600000  0.50138  0.49995  0.50191  0.49995   \n",
       "2021-04-10 06:21:00  1618035660000  0.50000  0.49989  0.50000  0.49989   \n",
       "2021-04-10 06:22:00  1618035720000  0.50000  0.50000  0.50000  0.50000   \n",
       "2021-04-10 06:26:00  1618035960000  0.50064  0.50064  0.50064  0.50064   \n",
       "2021-04-10 06:29:00  1618036140000  0.50065  0.50065  0.50065  0.50065   \n",
       "\n",
       "                           volume     slope  signal     min  \n",
       "time                                                         \n",
       "2018-05-01 11:27:00  20080.000000  0.017080     1.0       0  \n",
       "2018-05-01 11:28:00   2231.749404  0.017851     1.0       1  \n",
       "2018-05-01 11:29:00    250.000000  0.020869     1.0       2  \n",
       "2018-05-01 11:30:00    200.000000  0.021373     1.0       3  \n",
       "2018-05-01 11:31:00   2300.000000  0.023025     1.0       4  \n",
       "...                           ...       ...     ...     ...  \n",
       "2021-04-10 06:20:00  58125.931941       NaN     NaN  267525  \n",
       "2021-04-10 06:21:00    667.207260       NaN     NaN  267526  \n",
       "2021-04-10 06:22:00      0.000008       NaN     NaN  267527  \n",
       "2021-04-10 06:26:00     33.654337       NaN     NaN  267528  \n",
       "2021-04-10 06:29:00   1000.000000       NaN     NaN  267529  \n",
       "\n",
       "[267530 rows x 9 columns]"
      ]
     },
     "execution_count": 37,
     "metadata": {},
     "output_type": "execute_result"
    }
   ],
   "source": [
    "df"
   ]
  },
  {
   "cell_type": "code",
   "execution_count": 11,
   "id": "9a5a6c70",
   "metadata": {},
   "outputs": [
    {
     "data": {
      "image/png": "[encoded data removed]",
      "text/plain": [
       "<Figure size 1440x720 with 1 Axes>"
      ]
     },
     "metadata": {},
     "output_type": "display_data"
    }
   ],
   "source": [
    "plt.figure(figsize=(20,10))\n",
    "plt.plot(df['time.1']['2021':], df['close']['2021':], label = 'Test set (Before 2020)')\n",
    "plt.plot(df['time.1'][:'2021'], df['close'][:'2021'] , label = 'Training set (2020 and beyond)')\n",
    "\n",
    "plt.xlabel('Time')\n",
    "# Set the y axis label of the current axis.\n",
    "plt.ylabel('Price')\n",
    "# Set a title of the current axes.\n",
    "plt.title('Stellar closing price')\n",
    "# show a legend on the plot\n",
    "\n",
    "plt.legend()\n",
    "# Display a figure.\n",
    "plt.show()"
   ]
  },
  {
   "cell_type": "code",
   "execution_count": 113,
   "id": "d291a69a",
   "metadata": {},
   "outputs": [
    {
     "data": {
      "image/png": "[encoded data removed]",
      "text/plain": [
       "<Figure size 1440x720 with 1 Axes>"
      ]
     },
     "metadata": {},
     "output_type": "display_data"
    }
   ],
   "source": [
    "plt.figure(figsize=(20,10))\n",
    "plt.plot(df['time.1']['2021-04':], df['close']['2021-04':])\n",
    "plt.scatter(df['time.1']['2021-04':], df['signal']['2021-04':]/3)\n",
    "plt.show()"
   ]
  },
  {
   "cell_type": "code",
   "execution_count": null,
   "id": "2505f657",
   "metadata": {},
   "outputs": [],
   "source": [
    "# Scaling the training set\n",
    "sc = MinMaxScaler(feature_range=(0,1))\n",
    "training_set_scaled = sc.fit_transform(training_set)"
   ]
  },
  {
   "cell_type": "code",
   "execution_count": null,
   "id": "a59b8362",
   "metadata": {},
   "outputs": [],
   "source": [
    "def univariate_data(dataset, start_index, end_index, history_size, target_size):\n",
    "  data = []\n",
    "  labels = []\n",
    "\n",
    "  start_index = start_index + history_size\n",
    "  if end_index is None:\n",
    "    end_index = len(dataset) - target_size\n",
    "\n",
    "  for i in range(start_index, end_index):\n",
    "    indices = range(i-history_size, i)\n",
    "    # Reshape data from (history_size,) to (history_size, 1)\n",
    "    data.append(np.reshape(dataset[indices], (history_size, 1)))\n",
    "    labels.append(dataset[i+target_size])\n",
    "  return np.array(data), np.array(labels)"
   ]
  },
  {
   "cell_type": "code",
   "execution_count": null,
   "id": "3df3cda6",
   "metadata": {},
   "outputs": [],
   "source": [
    "past_history = 1440\n",
    "future_target = 0\n",
    "\n",
    "TRAIN_SPLIT = int(len(norm_data) * 0.8)\n",
    "\n",
    "\n",
    "x_train, y_train = univariate_data(norm_data,\n",
    "                                   0,\n",
    "                                   TRAIN_SPLIT,\n",
    "                                   past_history,\n",
    "                                   future_target)\n",
    "\n",
    "x_test, y_test = univariate_data(norm_data,\n",
    "                                 TRAIN_SPLIT,\n",
    "                                 None,\n",
    "                                 past_history,\n",
    "                                 future_target)"
   ]
  },
  {
   "cell_type": "code",
   "execution_count": 114,
   "id": "1ef45f76",
   "metadata": {},
   "outputs": [
    {
     "data": {
      "text/plain": [
       "Index(['close', 'volume', 'signal'], dtype='object')"
      ]
     },
     "execution_count": 114,
     "metadata": {},
     "output_type": "execute_result"
    }
   ],
   "source": [
    "wybrane = df.drop(columns=(['time.1', 'open', 'high', 'low', 'slope','min']))\n",
    "wybrane.columns"
   ]
  },
  {
   "cell_type": "code",
   "execution_count": 115,
   "id": "0876358f",
   "metadata": {},
   "outputs": [
    {
     "name": "stdout",
     "output_type": "stream",
     "text": [
      "[[4.51380000e-02 8.23142363e+02 2.00000000e+00]\n",
      " [4.50230000e-02 5.69916290e+03 2.00000000e+00]\n",
      " [4.50010000e-02 4.74896100e+02 2.00000000e+00]\n",
      " ...\n",
      " [5.00000000e-01 8.00000000e-06            nan]\n",
      " [5.00640000e-01 3.36543367e+01            nan]\n",
      " [5.00650000e-01 1.00000000e+03            nan]]\n",
      "[ 823.142363 5699.1629    474.8961  ]\n"
     ]
    }
   ],
   "source": [
    "test_set = wybrane['2020':].values\n",
    "train_set = wybrane[:'2020'].values\n",
    "print(test_set)\n",
    "print(test_set[:3,1])"
   ]
  },
  {
   "cell_type": "code",
   "execution_count": 54,
   "id": "f1fcb043",
   "metadata": {},
   "outputs": [],
   "source": [
    "sc = MinMaxScaler(feature_range=(0,1))\n",
    "training_set_scaled = sc.fit_transform(training_set)"
   ]
  },
  {
   "cell_type": "code",
   "execution_count": 9,
   "id": "d7d8d865",
   "metadata": {},
   "outputs": [
    {
     "data": {
      "text/plain": [
       "array([1., 1., 1., ..., 3., 3., 3.])"
      ]
     },
     "execution_count": 9,
     "metadata": {},
     "output_type": "execute_result"
    }
   ],
   "source": [
    "# Since LSTMs store long term memory state, we create a data structure with 60 timesteps and 1 output\n",
    "# So for each element of training set, we have 60 previous training set elements \n",
    "X_train = []\n",
    "y_train = []\n",
    "for i in range(60,2769):\n",
    "    X_train.append(training_set[i-60:i,:6])\n",
    "    y_train.append(training_set[i,6])\n",
    "X_train, y_train = np.array(X_train), np.array(y_train)\n",
    "y_train"
   ]
  },
  {
   "cell_type": "code",
   "execution_count": 116,
   "id": "4f74e050",
   "metadata": {},
   "outputs": [
    {
     "name": "stdout",
     "output_type": "stream",
     "text": [
      "(2709, 60, 2)\n",
      "[[[4.51380000e-02 8.23142363e+02]\n",
      "  [4.50230000e-02 5.69916290e+03]\n",
      "  [4.50010000e-02 4.74896100e+02]\n",
      "  ...\n",
      "  [4.53270000e-02 1.26231849e+03]\n",
      "  [4.52730000e-02 2.98837801e+03]\n",
      "  [4.50560000e-02 6.20042560e+02]]\n",
      "\n",
      " [[4.50230000e-02 5.69916290e+03]\n",
      "  [4.50010000e-02 4.74896100e+02]\n",
      "  [4.49940000e-02 2.24457610e+03]\n",
      "  ...\n",
      "  [4.52730000e-02 2.98837801e+03]\n",
      "  [4.50560000e-02 6.20042560e+02]\n",
      "  [4.51840000e-02 7.05011456e+03]]\n",
      "\n",
      " [[4.50010000e-02 4.74896100e+02]\n",
      "  [4.49940000e-02 2.24457610e+03]\n",
      "  [4.52510000e-02 3.00828366e+02]\n",
      "  ...\n",
      "  [4.50560000e-02 6.20042560e+02]\n",
      "  [4.51840000e-02 7.05011456e+03]\n",
      "  [4.49839400e-02 1.30043184e+03]]\n",
      "\n",
      " ...\n",
      "\n",
      " [[5.97210000e-02 1.33890000e+03]\n",
      "  [5.96960000e-02 5.93424821e+02]\n",
      "  [5.98312200e-02 3.34460000e+03]\n",
      "  ...\n",
      "  [6.35410000e-02 2.34744426e+03]\n",
      "  [6.37720000e-02 1.31020063e+03]\n",
      "  [6.36010000e-02 7.99000000e+03]]\n",
      "\n",
      " [[5.96960000e-02 5.93424821e+02]\n",
      "  [5.98312200e-02 3.34460000e+03]\n",
      "  [6.01970000e-02 1.00000000e+03]\n",
      "  ...\n",
      "  [6.37720000e-02 1.31020063e+03]\n",
      "  [6.36010000e-02 7.99000000e+03]\n",
      "  [6.39950000e-02 1.50000000e+04]]\n",
      "\n",
      " [[5.98312200e-02 3.34460000e+03]\n",
      "  [6.01970000e-02 1.00000000e+03]\n",
      "  [5.99320000e-02 3.71942870e+03]\n",
      "  ...\n",
      "  [6.36010000e-02 7.99000000e+03]\n",
      "  [6.39950000e-02 1.50000000e+04]\n",
      "  [6.39110000e-02 4.98402104e+03]]]\n"
     ]
    }
   ],
   "source": [
    "# Since LSTMs store long term memory state, we create a data structure with 60 timesteps and 1 output\n",
    "# So for each element of training set, we have 60 previous training set elements \n",
    "X_test = []\n",
    "y_test = []\n",
    "for i in range(60,2769):\n",
    "    X_test.append(test_set[i-60:i,:2])\n",
    "    y_test.append(test_set[i,2])\n",
    "X_test, y_test = np.array(X_test), np.array(y_test)\n",
    "print(X_test.shape)\n",
    "print(X_test)"
   ]
  },
  {
   "cell_type": "code",
   "execution_count": 117,
   "id": "d0e35406",
   "metadata": {},
   "outputs": [
    {
     "name": "stdout",
     "output_type": "stream",
     "text": [
      "(2709, 60, 2)\n"
     ]
    }
   ],
   "source": [
    "X_train = []\n",
    "y_train = []\n",
    "for i in range(60,2769):\n",
    "    X_train.append(train_set[i-60:i,:2])\n",
    "    y_train.append(train_set[i,2])\n",
    "X_train, y_train = np.array(X_train), np.array(y_train)\n",
    "print(X_train.shape)"
   ]
  },
  {
   "cell_type": "code",
   "execution_count": 118,
   "id": "0bf2ae57",
   "metadata": {},
   "outputs": [
    {
     "name": "stdout",
     "output_type": "stream",
     "text": [
      "(2709, 60, 2)\n"
     ]
    }
   ],
   "source": [
    "print(X_test.shape)"
   ]
  },
  {
   "cell_type": "code",
   "execution_count": 10,
   "id": "f8923a6e",
   "metadata": {},
   "outputs": [
    {
     "ename": "ValueError",
     "evalue": "cannot reshape array of size 975240 into shape (2709,60,1)",
     "output_type": "error",
     "traceback": [
      "\u001b[0;31m---------------------------------------------------------------------------\u001b[0m",
      "\u001b[0;31mValueError\u001b[0m                                Traceback (most recent call last)",
      "\u001b[0;32m<ipython-input-10-f7f2060fa833>\u001b[0m in \u001b[0;36m<module>\u001b[0;34m\u001b[0m\n\u001b[1;32m      1\u001b[0m \u001b[0;31m# Reshaping X_train for efficient modelling\u001b[0m\u001b[0;34m\u001b[0m\u001b[0;34m\u001b[0m\u001b[0;34m\u001b[0m\u001b[0m\n\u001b[0;32m----> 2\u001b[0;31m \u001b[0mX_train\u001b[0m \u001b[0;34m=\u001b[0m \u001b[0mnp\u001b[0m\u001b[0;34m.\u001b[0m\u001b[0mreshape\u001b[0m\u001b[0;34m(\u001b[0m\u001b[0mX_train\u001b[0m\u001b[0;34m,\u001b[0m \u001b[0;34m(\u001b[0m\u001b[0mX_train\u001b[0m\u001b[0;34m.\u001b[0m\u001b[0mshape\u001b[0m\u001b[0;34m[\u001b[0m\u001b[0;36m0\u001b[0m\u001b[0;34m]\u001b[0m\u001b[0;34m,\u001b[0m\u001b[0mX_train\u001b[0m\u001b[0;34m.\u001b[0m\u001b[0mshape\u001b[0m\u001b[0;34m[\u001b[0m\u001b[0;36m1\u001b[0m\u001b[0;34m]\u001b[0m\u001b[0;34m,\u001b[0m\u001b[0;36m1\u001b[0m\u001b[0;34m)\u001b[0m\u001b[0;34m)\u001b[0m\u001b[0;34m\u001b[0m\u001b[0;34m\u001b[0m\u001b[0m\n\u001b[0m",
      "\u001b[0;32m<__array_function__ internals>\u001b[0m in \u001b[0;36mreshape\u001b[0;34m(*args, **kwargs)\u001b[0m\n",
      "\u001b[0;32m~/.local/lib/python3.8/site-packages/numpy/core/fromnumeric.py\u001b[0m in \u001b[0;36mreshape\u001b[0;34m(a, newshape, order)\u001b[0m\n\u001b[1;32m    297\u001b[0m            [5, 6]])\n\u001b[1;32m    298\u001b[0m     \"\"\"\n\u001b[0;32m--> 299\u001b[0;31m     \u001b[0;32mreturn\u001b[0m \u001b[0m_wrapfunc\u001b[0m\u001b[0;34m(\u001b[0m\u001b[0ma\u001b[0m\u001b[0;34m,\u001b[0m \u001b[0;34m'reshape'\u001b[0m\u001b[0;34m,\u001b[0m \u001b[0mnewshape\u001b[0m\u001b[0;34m,\u001b[0m \u001b[0morder\u001b[0m\u001b[0;34m=\u001b[0m\u001b[0morder\u001b[0m\u001b[0;34m)\u001b[0m\u001b[0;34m\u001b[0m\u001b[0;34m\u001b[0m\u001b[0m\n\u001b[0m\u001b[1;32m    300\u001b[0m \u001b[0;34m\u001b[0m\u001b[0m\n\u001b[1;32m    301\u001b[0m \u001b[0;34m\u001b[0m\u001b[0m\n",
      "\u001b[0;32m~/.local/lib/python3.8/site-packages/numpy/core/fromnumeric.py\u001b[0m in \u001b[0;36m_wrapfunc\u001b[0;34m(obj, method, *args, **kwds)\u001b[0m\n\u001b[1;32m     56\u001b[0m \u001b[0;34m\u001b[0m\u001b[0m\n\u001b[1;32m     57\u001b[0m     \u001b[0;32mtry\u001b[0m\u001b[0;34m:\u001b[0m\u001b[0;34m\u001b[0m\u001b[0;34m\u001b[0m\u001b[0m\n\u001b[0;32m---> 58\u001b[0;31m         \u001b[0;32mreturn\u001b[0m \u001b[0mbound\u001b[0m\u001b[0;34m(\u001b[0m\u001b[0;34m*\u001b[0m\u001b[0margs\u001b[0m\u001b[0;34m,\u001b[0m \u001b[0;34m**\u001b[0m\u001b[0mkwds\u001b[0m\u001b[0;34m)\u001b[0m\u001b[0;34m\u001b[0m\u001b[0;34m\u001b[0m\u001b[0m\n\u001b[0m\u001b[1;32m     59\u001b[0m     \u001b[0;32mexcept\u001b[0m \u001b[0mTypeError\u001b[0m\u001b[0;34m:\u001b[0m\u001b[0;34m\u001b[0m\u001b[0;34m\u001b[0m\u001b[0m\n\u001b[1;32m     60\u001b[0m         \u001b[0;31m# A TypeError occurs if the object does have such a method in its\u001b[0m\u001b[0;34m\u001b[0m\u001b[0;34m\u001b[0m\u001b[0;34m\u001b[0m\u001b[0m\n",
      "\u001b[0;31mValueError\u001b[0m: cannot reshape array of size 975240 into shape (2709,60,1)"
     ]
    }
   ],
   "source": [
    "# Reshaping X_train for efficient modelling\n",
    "#X_train = np.reshape(X_train, (X_train.shape[0],X_train.shape[1],1))"
   ]
  },
  {
   "cell_type": "code",
   "execution_count": 123,
   "id": "0e3ec19d",
   "metadata": {},
   "outputs": [
    {
     "name": "stdout",
     "output_type": "stream",
     "text": [
      "Epoch 1/50\n",
      "39/39 - 13s - loss: 0.5749 - val_loss: 1.1921\n",
      "Epoch 2/50\n",
      "39/39 - 9s - loss: 0.3800 - val_loss: 1.1494\n",
      "Epoch 3/50\n",
      "39/39 - 9s - loss: 0.3938 - val_loss: 0.9956\n",
      "Epoch 4/50\n",
      "39/39 - 10s - loss: 0.3623 - val_loss: 0.9616\n",
      "Epoch 5/50\n",
      "39/39 - 11s - loss: 0.3507 - val_loss: 0.9546\n",
      "Epoch 6/50\n",
      "39/39 - 11s - loss: 0.3473 - val_loss: 0.9267\n",
      "Epoch 7/50\n",
      "39/39 - 11s - loss: 0.3395 - val_loss: 0.9148\n",
      "Epoch 8/50\n",
      "39/39 - 11s - loss: 0.3351 - val_loss: 0.9063\n",
      "Epoch 9/50\n",
      "39/39 - 11s - loss: 0.3316 - val_loss: 0.9001\n",
      "Epoch 10/50\n",
      "39/39 - 11s - loss: 0.3291 - val_loss: 0.8988\n",
      "Epoch 11/50\n",
      "39/39 - 9s - loss: 0.3275 - val_loss: 0.8899\n",
      "Epoch 12/50\n",
      "39/39 - 10s - loss: 0.3249 - val_loss: 0.8870\n",
      "Epoch 13/50\n",
      "39/39 - 11s - loss: 0.3208 - val_loss: 0.9025\n",
      "Epoch 14/50\n",
      "39/39 - 11s - loss: 0.3260 - val_loss: 0.8848\n",
      "Epoch 15/50\n",
      "39/39 - 11s - loss: 0.3218 - val_loss: 0.8797\n",
      "Epoch 16/50\n",
      "39/39 - 11s - loss: 0.3196 - val_loss: 0.8768\n",
      "Epoch 17/50\n",
      "39/39 - 11s - loss: 0.3182 - val_loss: 0.8734\n",
      "Epoch 18/50\n",
      "39/39 - 11s - loss: 0.3168 - val_loss: 0.8710\n",
      "Epoch 19/50\n",
      "39/39 - 11s - loss: 0.3159 - val_loss: 0.8697\n",
      "Epoch 20/50\n",
      "39/39 - 11s - loss: 0.3150 - val_loss: 0.8665\n",
      "Epoch 21/50\n",
      "39/39 - 11s - loss: 0.3137 - val_loss: 0.8644\n",
      "Epoch 22/50\n",
      "39/39 - 9s - loss: 0.3135 - val_loss: 0.8766\n",
      "Epoch 23/50\n",
      "39/39 - 10s - loss: 0.3154 - val_loss: 0.8597\n",
      "Epoch 24/50\n",
      "39/39 - 11s - loss: 0.3108 - val_loss: 0.8581\n",
      "Epoch 25/50\n",
      "39/39 - 11s - loss: 0.3100 - val_loss: 0.8560\n",
      "Epoch 26/50\n",
      "39/39 - 11s - loss: 0.3091 - val_loss: 0.8539\n",
      "Epoch 27/50\n",
      "39/39 - 11s - loss: 0.3083 - val_loss: 0.8517\n",
      "Epoch 28/50\n",
      "39/39 - 11s - loss: 0.3070 - val_loss: 0.8672\n",
      "Epoch 29/50\n",
      "39/39 - 11s - loss: 0.3105 - val_loss: 0.8514\n",
      "Epoch 30/50\n",
      "39/39 - 11s - loss: 0.3062 - val_loss: 0.8493\n",
      "Epoch 31/50\n",
      "39/39 - 11s - loss: 0.3039 - val_loss: 0.8689\n",
      "Epoch 32/50\n",
      "39/39 - 11s - loss: 0.3095 - val_loss: 0.8458\n",
      "Epoch 33/50\n",
      "39/39 - 9s - loss: 0.3034 - val_loss: 0.8400\n",
      "Epoch 34/50\n",
      "39/39 - 10s - loss: 0.3009 - val_loss: 0.8355\n",
      "Epoch 35/50\n",
      "39/39 - 11s - loss: 0.2998 - val_loss: 0.8503\n",
      "Epoch 36/50\n",
      "39/39 - 11s - loss: 0.3017 - val_loss: 0.8358\n",
      "Epoch 37/50\n",
      "39/39 - 11s - loss: 0.2982 - val_loss: 0.8293\n",
      "Epoch 38/50\n",
      "39/39 - 11s - loss: 0.2959 - val_loss: 0.8256\n",
      "Epoch 39/50\n",
      "39/39 - 12s - loss: 0.2951 - val_loss: 0.8212\n",
      "Epoch 40/50\n",
      "39/39 - 11s - loss: 0.2918 - val_loss: 0.8225\n",
      "Epoch 41/50\n",
      "39/39 - 11s - loss: 0.2939 - val_loss: 0.8326\n",
      "Epoch 42/50\n",
      "39/39 - 11s - loss: 0.2945 - val_loss: 0.8229\n",
      "Epoch 43/50\n",
      "39/39 - 12s - loss: 0.2930 - val_loss: 0.8193\n",
      "Epoch 44/50\n",
      "39/39 - 12s - loss: 0.2936 - val_loss: 0.8240\n",
      "Epoch 45/50\n",
      "39/39 - 12s - loss: 0.2908 - val_loss: 0.8189\n",
      "Epoch 46/50\n",
      "39/39 - 12s - loss: 0.2897 - val_loss: 0.8170\n",
      "Epoch 47/50\n",
      "39/39 - 12s - loss: 0.2868 - val_loss: 0.8062\n",
      "Epoch 48/50\n",
      "39/39 - 12s - loss: 0.2791 - val_loss: 0.8080\n",
      "Epoch 49/50\n",
      "39/39 - 11s - loss: 0.2770 - val_loss: 0.8069\n",
      "Epoch 50/50\n",
      "39/39 - 11s - loss: 0.2754 - val_loss: 0.8072\n"
     ]
    }
   ],
   "source": [
    "# The LSTM architecture\n",
    "LSTM_model = Sequential()\n",
    "# First LSTM layer with Dropout regularisation\n",
    "LSTM_model.add(LSTM(units=120, return_sequences=True, input_shape=(X_train.shape[1],X_train.shape[2])))\n",
    "LSTM_model.add(Dropout(0.2))\n",
    "# Second LSTM layer\n",
    "LSTM_model.add(LSTM(units=50, return_sequences=True))\n",
    "#LSTM_model.add(Dropout(0.2))\n",
    "# Third LSTM layer\n",
    "#LSTM_model.add(LSTM(units=50, return_sequences=True))\n",
    "#LSTM_model.add(Dropout(0.2))\n",
    "# Fourth LSTM layer\n",
    "#LSTM_model.add(LSTM(units=50))\n",
    "#LSTM_model.add(Dropout(0.2))\n",
    "#The output layer\n",
    "LSTM_model.add(Dense(units=1))\n",
    "\n",
    "# Compiling the RNN\n",
    "LSTM_model.compile(optimizer='adam',loss='mean_squared_error')\n",
    "# Fitting to the training set\n",
    "history = LSTM_model.fit(X_train,y_train,epochs=50,batch_size=70, validation_data=(X_test, y_test), verbose=2, shuffle=False)"
   ]
  },
  {
   "cell_type": "code",
   "execution_count": 124,
   "id": "949f92c6",
   "metadata": {},
   "outputs": [
    {
     "data": {
      "image/png": "[encoded data removed]",
      "text/plain": [
       "<Figure size 432x288 with 1 Axes>"
      ]
     },
     "metadata": {},
     "output_type": "display_data"
    }
   ],
   "source": [
    "# summarize history for loss\n",
    "plt.plot(history.history['loss'])\n",
    "plt.plot(history.history['val_loss'])\n",
    "plt.title('model loss')\n",
    "plt.ylabel('loss')\n",
    "plt.xlabel('epoch')\n",
    "plt.legend(['train', 'test'], loc='upper right')\n",
    "plt.show()"
   ]
  },
  {
   "cell_type": "code",
   "execution_count": 125,
   "id": "8e5fa847",
   "metadata": {},
   "outputs": [
    {
     "name": "stderr",
     "output_type": "stream",
     "text": [
      "WARNING:absl:Found untraced functions such as lstm_cell_13_layer_call_and_return_conditional_losses, lstm_cell_13_layer_call_fn, lstm_cell_14_layer_call_and_return_conditional_losses, lstm_cell_14_layer_call_fn, lstm_cell_13_layer_call_fn while saving (showing 5 of 10). These functions will not be directly callable after loading.\n",
      "WARNING:absl:Found untraced functions such as lstm_cell_13_layer_call_and_return_conditional_losses, lstm_cell_13_layer_call_fn, lstm_cell_14_layer_call_and_return_conditional_losses, lstm_cell_14_layer_call_fn, lstm_cell_13_layer_call_fn while saving (showing 5 of 10). These functions will not be directly callable after loading.\n"
     ]
    },
    {
     "name": "stdout",
     "output_type": "stream",
     "text": [
      "INFO:tensorflow:Assets written to: third_LSTM_model/assets\n"
     ]
    },
    {
     "name": "stderr",
     "output_type": "stream",
     "text": [
      "INFO:tensorflow:Assets written to: third_LSTM_model/assets\n"
     ]
    }
   ],
   "source": [
    "LSTM_model.save('third_LSTM_model')"
   ]
  },
  {
   "cell_type": "code",
   "execution_count": 12,
   "id": "0b3ca2e4",
   "metadata": {},
   "outputs": [],
   "source": [
    "from keras.models import load_model"
   ]
  },
  {
   "cell_type": "code",
   "execution_count": 13,
   "id": "848b2ad4",
   "metadata": {},
   "outputs": [],
   "source": [
    "LSTM_model = load_model('first_LSTM_model')"
   ]
  },
  {
   "cell_type": "code",
   "execution_count": 122,
   "id": "5f689ff6",
   "metadata": {},
   "outputs": [
    {
     "name": "stdout",
     "output_type": "stream",
     "text": [
      "(2709, 60, 2)\n"
     ]
    }
   ],
   "source": [
    "print(X_test.shape)"
   ]
  },
  {
   "cell_type": "code",
   "execution_count": 18,
   "id": "62940cd6",
   "metadata": {},
   "outputs": [
    {
     "data": {
      "text/plain": [
       "(60, 6)"
      ]
     },
     "execution_count": 18,
     "metadata": {},
     "output_type": "execute_result"
    }
   ],
   "source": [
    "X_test[0].shape\n"
   ]
  },
  {
   "cell_type": "code",
   "execution_count": 126,
   "id": "aa28c421",
   "metadata": {},
   "outputs": [],
   "source": [
    "X_test_chunk = X_test[0]"
   ]
  },
  {
   "cell_type": "code",
   "execution_count": 94,
   "id": "dfd25a23",
   "metadata": {},
   "outputs": [
    {
     "data": {
      "text/plain": [
       "(60, 2)"
      ]
     },
     "execution_count": 94,
     "metadata": {},
     "output_type": "execute_result"
    }
   ],
   "source": [
    "X_test_chunk.shape"
   ]
  },
  {
   "cell_type": "code",
   "execution_count": 127,
   "id": "89006102",
   "metadata": {},
   "outputs": [],
   "source": [
    "X_test_chunk_r = np.reshape(X_test_chunk, (1,60,2))"
   ]
  },
  {
   "cell_type": "code",
   "execution_count": 96,
   "id": "c627747a",
   "metadata": {},
   "outputs": [
    {
     "data": {
      "text/plain": [
       "(1, 60, 2)"
      ]
     },
     "execution_count": 96,
     "metadata": {},
     "output_type": "execute_result"
    }
   ],
   "source": [
    "X_test_chunk_r.shape"
   ]
  },
  {
   "cell_type": "code",
   "execution_count": 128,
   "id": "7a6e2b7c",
   "metadata": {},
   "outputs": [],
   "source": [
    "pred_signal = LSTM_model.predict(X_test_chunk_r)"
   ]
  },
  {
   "cell_type": "code",
   "execution_count": 129,
   "id": "91d7c3a8",
   "metadata": {},
   "outputs": [
    {
     "name": "stdout",
     "output_type": "stream",
     "text": [
      "[[1.]\n",
      " [2.]\n",
      " [2.]\n",
      " [2.]\n",
      " [2.]\n",
      " [2.]\n",
      " [2.]\n",
      " [2.]\n",
      " [2.]\n",
      " [2.]\n",
      " [2.]\n",
      " [2.]\n",
      " [2.]\n",
      " [2.]\n",
      " [2.]\n",
      " [2.]\n",
      " [2.]\n",
      " [2.]\n",
      " [2.]\n",
      " [2.]\n",
      " [2.]\n",
      " [2.]\n",
      " [2.]\n",
      " [2.]\n",
      " [2.]\n",
      " [2.]\n",
      " [2.]\n",
      " [2.]\n",
      " [2.]\n",
      " [2.]\n",
      " [2.]\n",
      " [2.]\n",
      " [2.]\n",
      " [2.]\n",
      " [2.]\n",
      " [2.]\n",
      " [2.]\n",
      " [2.]\n",
      " [2.]\n",
      " [2.]\n",
      " [2.]\n",
      " [2.]\n",
      " [2.]\n",
      " [2.]\n",
      " [2.]\n",
      " [2.]\n",
      " [2.]\n",
      " [2.]\n",
      " [2.]\n",
      " [2.]\n",
      " [2.]\n",
      " [2.]\n",
      " [2.]\n",
      " [2.]\n",
      " [2.]\n",
      " [2.]\n",
      " [2.]\n",
      " [2.]\n",
      " [2.]\n",
      " [2.]]\n"
     ]
    }
   ],
   "source": [
    "print(np.round(pred_signal[0]))"
   ]
  },
  {
   "cell_type": "code",
   "execution_count": 131,
   "id": "57b0c3c3",
   "metadata": {},
   "outputs": [
    {
     "data": {
      "text/plain": [
       "array([[[4.51380000e-02, 8.23142363e+02],\n",
       "        [4.50230000e-02, 5.69916290e+03],\n",
       "        [4.50010000e-02, 4.74896100e+02],\n",
       "        [4.49940000e-02, 2.24457610e+03],\n",
       "        [4.52510000e-02, 3.00828366e+02],\n",
       "        [4.51950000e-02, 2.16116585e+02],\n",
       "        [4.53980000e-02, 4.40978876e+02],\n",
       "        [4.54180000e-02, 1.25894520e+02],\n",
       "        [4.53370000e-02, 9.57051087e+03],\n",
       "        [4.53350000e-02, 4.91813600e+02],\n",
       "        [4.51410000e-02, 1.47778623e+03],\n",
       "        [4.49740000e-02, 5.98006883e+04],\n",
       "        [4.51290000e-02, 2.58209299e+03],\n",
       "        [4.51291100e-02, 1.44390945e+02],\n",
       "        [4.51040000e-02, 9.56490810e+03],\n",
       "        [4.50906200e-02, 2.59365000e+02],\n",
       "        [4.50860000e-02, 3.75000000e+03],\n",
       "        [4.50220000e-02, 7.37036397e+03],\n",
       "        [4.49030000e-02, 1.46048019e+04],\n",
       "        [4.49079500e-02, 4.70000000e+03],\n",
       "        [4.49870000e-02, 6.57755583e+02],\n",
       "        [4.49840000e-02, 7.33190300e+02],\n",
       "        [4.50180000e-02, 4.54413541e+03],\n",
       "        [4.50220000e-02, 2.50000000e+03],\n",
       "        [4.50220000e-02, 2.39035797e+03],\n",
       "        [4.50220000e-02, 1.03782376e+03],\n",
       "        [4.50790000e-02, 7.73868379e+03],\n",
       "        [4.53324900e-02, 2.37667680e+03],\n",
       "        [4.53640000e-02, 1.70000000e+03],\n",
       "        [4.53830000e-02, 4.44806860e+03],\n",
       "        [4.53840000e-02, 4.45980000e+02],\n",
       "        [4.54710000e-02, 7.80282257e+02],\n",
       "        [4.54230000e-02, 3.26487731e+03],\n",
       "        [4.54760000e-02, 7.27122689e+02],\n",
       "        [4.55230000e-02, 1.07869823e+03],\n",
       "        [4.57050000e-02, 2.44034239e+04],\n",
       "        [4.57240000e-02, 1.85806224e+04],\n",
       "        [4.56390000e-02, 1.50000000e+04],\n",
       "        [4.54440000e-02, 7.92790000e+02],\n",
       "        [4.55560000e-02, 6.98417270e+02],\n",
       "        [4.55990500e-02, 1.86584294e+03],\n",
       "        [4.54860000e-02, 1.93281400e+03],\n",
       "        [4.54850000e-02, 2.65460200e+03],\n",
       "        [4.54280000e-02, 1.23053093e+02],\n",
       "        [4.53790000e-02, 1.60000000e+02],\n",
       "        [4.50290000e-02, 4.71978830e+03],\n",
       "        [4.51710000e-02, 7.74730000e+02],\n",
       "        [4.50973700e-02, 1.18453040e+02],\n",
       "        [4.49660000e-02, 3.88046387e+03],\n",
       "        [4.50170000e-02, 7.77410000e+02],\n",
       "        [4.50417600e-02, 1.34488125e+02],\n",
       "        [4.50400000e-02, 1.70000000e+03],\n",
       "        [4.49480000e-02, 3.54000000e+02],\n",
       "        [4.50520000e-02, 1.26231849e+03],\n",
       "        [4.51600000e-02, 2.81354830e+03],\n",
       "        [4.52350500e-02, 2.59365000e+02],\n",
       "        [4.53250000e-02, 3.00768000e+03],\n",
       "        [4.53270000e-02, 1.26231849e+03],\n",
       "        [4.52730000e-02, 2.98837801e+03],\n",
       "        [4.50560000e-02, 6.20042560e+02]]])"
      ]
     },
     "execution_count": 131,
     "metadata": {},
     "output_type": "execute_result"
    }
   ],
   "source": [
    "X_test_chunk_r"
   ]
  },
  {
   "cell_type": "code",
   "execution_count": 132,
   "id": "478d7f9f",
   "metadata": {},
   "outputs": [
    {
     "data": {
      "text/plain": [
       "3.0"
      ]
     },
     "execution_count": 132,
     "metadata": {},
     "output_type": "execute_result"
    }
   ],
   "source": [
    "y_test[60]"
   ]
  },
  {
   "cell_type": "code",
   "execution_count": 90,
   "id": "154b6264",
   "metadata": {},
   "outputs": [
    {
     "data": {
      "text/plain": [
       "array([[[4.51380000e-02, 8.23142363e+02],\n",
       "        [4.50230000e-02, 5.69916290e+03],\n",
       "        [4.50010000e-02, 4.74896100e+02],\n",
       "        ...,\n",
       "        [4.53270000e-02, 1.26231849e+03],\n",
       "        [4.52730000e-02, 2.98837801e+03],\n",
       "        [4.50560000e-02, 6.20042560e+02]],\n",
       "\n",
       "       [[4.50230000e-02, 5.69916290e+03],\n",
       "        [4.50010000e-02, 4.74896100e+02],\n",
       "        [4.49940000e-02, 2.24457610e+03],\n",
       "        ...,\n",
       "        [4.52730000e-02, 2.98837801e+03],\n",
       "        [4.50560000e-02, 6.20042560e+02],\n",
       "        [4.51840000e-02, 7.05011456e+03]],\n",
       "\n",
       "       [[4.50010000e-02, 4.74896100e+02],\n",
       "        [4.49940000e-02, 2.24457610e+03],\n",
       "        [4.52510000e-02, 3.00828366e+02],\n",
       "        ...,\n",
       "        [4.50560000e-02, 6.20042560e+02],\n",
       "        [4.51840000e-02, 7.05011456e+03],\n",
       "        [4.49839400e-02, 1.30043184e+03]],\n",
       "\n",
       "       ...,\n",
       "\n",
       "       [[5.97210000e-02, 1.33890000e+03],\n",
       "        [5.96960000e-02, 5.93424821e+02],\n",
       "        [5.98312200e-02, 3.34460000e+03],\n",
       "        ...,\n",
       "        [6.35410000e-02, 2.34744426e+03],\n",
       "        [6.37720000e-02, 1.31020063e+03],\n",
       "        [6.36010000e-02, 7.99000000e+03]],\n",
       "\n",
       "       [[5.96960000e-02, 5.93424821e+02],\n",
       "        [5.98312200e-02, 3.34460000e+03],\n",
       "        [6.01970000e-02, 1.00000000e+03],\n",
       "        ...,\n",
       "        [6.37720000e-02, 1.31020063e+03],\n",
       "        [6.36010000e-02, 7.99000000e+03],\n",
       "        [6.39950000e-02, 1.50000000e+04]],\n",
       "\n",
       "       [[5.98312200e-02, 3.34460000e+03],\n",
       "        [6.01970000e-02, 1.00000000e+03],\n",
       "        [5.99320000e-02, 3.71942870e+03],\n",
       "        ...,\n",
       "        [6.36010000e-02, 7.99000000e+03],\n",
       "        [6.39950000e-02, 1.50000000e+04],\n",
       "        [6.39110000e-02, 4.98402104e+03]]])"
      ]
     },
     "execution_count": 90,
     "metadata": {},
     "output_type": "execute_result"
    }
   ],
   "source": [
    "X_test"
   ]
  },
  {
   "cell_type": "code",
   "execution_count": 133,
   "id": "17d0a480",
   "metadata": {},
   "outputs": [],
   "source": [
    "pred_signals = LSTM_model.predict(X_test_chunk_r)"
   ]
  },
  {
   "cell_type": "code",
   "execution_count": 134,
   "id": "f9ac6d71",
   "metadata": {},
   "outputs": [
    {
     "data": {
      "text/plain": [
       "array([[[1.4348242],\n",
       "        [1.5243508],\n",
       "        [1.5894198],\n",
       "        [1.5961387],\n",
       "        [1.595364 ],\n",
       "        [1.5904207],\n",
       "        [1.5954553],\n",
       "        [1.5804095],\n",
       "        [1.595655 ],\n",
       "        [1.5947626],\n",
       "        [1.5947766],\n",
       "        [1.5945786],\n",
       "        [1.59454  ],\n",
       "        [1.5812087],\n",
       "        [1.5952357],\n",
       "        [1.5915444],\n",
       "        [1.5949941],\n",
       "        [1.5944786],\n",
       "        [1.5944612],\n",
       "        [1.5944152],\n",
       "        [1.594363 ],\n",
       "        [1.594364 ],\n",
       "        [1.5943819],\n",
       "        [1.5943855],\n",
       "        [1.5943855],\n",
       "        [1.5943791],\n",
       "        [1.5943816],\n",
       "        [1.5943841],\n",
       "        [1.5943835],\n",
       "        [1.5943837],\n",
       "        [1.5941256],\n",
       "        [1.5944121],\n",
       "        [1.5943652],\n",
       "        [1.5943519],\n",
       "        [1.594361 ],\n",
       "        [1.5943658],\n",
       "        [1.5943673],\n",
       "        [1.5943675],\n",
       "        [1.594352 ],\n",
       "        [1.5943362],\n",
       "        [1.5943612],\n",
       "        [1.5943638],\n",
       "        [1.5943638],\n",
       "        [1.5790762],\n",
       "        [1.5840424],\n",
       "        [1.5973574],\n",
       "        [1.5949693],\n",
       "        [1.5791261],\n",
       "        [1.5959694],\n",
       "        [1.5952698],\n",
       "        [1.5807902],\n",
       "        [1.5960119],\n",
       "        [1.5945945],\n",
       "        [1.5954976],\n",
       "        [1.5951723],\n",
       "        [1.5920022],\n",
       "        [1.5955685],\n",
       "        [1.5951802],\n",
       "        [1.5951878],\n",
       "        [1.5951109]]], dtype=float32)"
      ]
     },
     "execution_count": 134,
     "metadata": {},
     "output_type": "execute_result"
    }
   ],
   "source": [
    "pred_signals"
   ]
  },
  {
   "cell_type": "code",
   "execution_count": 135,
   "id": "94d4def8",
   "metadata": {},
   "outputs": [
    {
     "data": {
      "text/plain": [
       "array([1.4348242, 1.5243508, 1.5894198, 1.5961387, 1.595364 , 1.5904207,\n",
       "       1.5954553, 1.5804095, 1.595655 , 1.5947626, 1.5947766, 1.5945786,\n",
       "       1.59454  , 1.5812087, 1.5952357, 1.5915444, 1.5949941, 1.5944786,\n",
       "       1.5944612, 1.5944152, 1.594363 , 1.594364 , 1.5943819, 1.5943855,\n",
       "       1.5943855, 1.5943791, 1.5943816, 1.5943841, 1.5943835, 1.5943837,\n",
       "       1.5941256, 1.5944121, 1.5943652, 1.5943519, 1.594361 , 1.5943658,\n",
       "       1.5943673, 1.5943675, 1.594352 , 1.5943362, 1.5943612, 1.5943638,\n",
       "       1.5943638, 1.5790762, 1.5840424, 1.5973574, 1.5949693, 1.5791261,\n",
       "       1.5959694, 1.5952698, 1.5807902, 1.5960119, 1.5945945, 1.5954976,\n",
       "       1.5951723, 1.5920022, 1.5955685, 1.5951802, 1.5951878, 1.5951109],\n",
       "      dtype=float32)"
      ]
     },
     "execution_count": 135,
     "metadata": {},
     "output_type": "execute_result"
    }
   ],
   "source": [
    "pred_signals.reshape(60)"
   ]
  },
  {
   "cell_type": "code",
   "execution_count": 103,
   "id": "71731c93",
   "metadata": {},
   "outputs": [
    {
     "data": {
      "text/plain": [
       "1"
      ]
     },
     "execution_count": 103,
     "metadata": {},
     "output_type": "execute_result"
    }
   ],
   "source": [
    "len(pred_signals)"
   ]
  },
  {
   "cell_type": "code",
   "execution_count": 86,
   "id": "5ecf48e9",
   "metadata": {},
   "outputs": [
    {
     "data": {
      "text/plain": [
       "2709"
      ]
     },
     "execution_count": 86,
     "metadata": {},
     "output_type": "execute_result"
    }
   ],
   "source": [
    "len(y_test)"
   ]
  },
  {
   "cell_type": "code",
   "execution_count": 136,
   "id": "06c63bf9",
   "metadata": {},
   "outputs": [
    {
     "ename": "ValueError",
     "evalue": "x and y can be no greater than 2D, but have shapes (1,) and (1, 60, 1)",
     "output_type": "error",
     "traceback": [
      "\u001b[0;31m---------------------------------------------------------------------------\u001b[0m",
      "\u001b[0;31mValueError\u001b[0m                                Traceback (most recent call last)",
      "\u001b[0;32m<ipython-input-136-77026290716c>\u001b[0m in \u001b[0;36m<module>\u001b[0;34m\u001b[0m\n\u001b[0;32m----> 1\u001b[0;31m \u001b[0mplt\u001b[0m\u001b[0;34m.\u001b[0m\u001b[0mplot\u001b[0m\u001b[0;34m(\u001b[0m\u001b[0mpred_signals\u001b[0m\u001b[0;34m)\u001b[0m\u001b[0;34m\u001b[0m\u001b[0;34m\u001b[0m\u001b[0m\n\u001b[0m\u001b[1;32m      2\u001b[0m \u001b[0mplt\u001b[0m\u001b[0;34m.\u001b[0m\u001b[0mplot\u001b[0m\u001b[0;34m(\u001b[0m\u001b[0my_test\u001b[0m\u001b[0;34m)\u001b[0m\u001b[0;34m\u001b[0m\u001b[0;34m\u001b[0m\u001b[0m\n\u001b[1;32m      3\u001b[0m \u001b[0mplt\u001b[0m\u001b[0;34m.\u001b[0m\u001b[0mshow\u001b[0m\u001b[0;34m(\u001b[0m\u001b[0;34m)\u001b[0m\u001b[0;34m\u001b[0m\u001b[0;34m\u001b[0m\u001b[0m\n",
      "\u001b[0;32m~/.local/lib/python3.8/site-packages/matplotlib/pyplot.py\u001b[0m in \u001b[0;36mplot\u001b[0;34m(scalex, scaley, data, *args, **kwargs)\u001b[0m\n\u001b[1;32m   2986\u001b[0m \u001b[0;34m@\u001b[0m\u001b[0m_copy_docstring_and_deprecators\u001b[0m\u001b[0;34m(\u001b[0m\u001b[0mAxes\u001b[0m\u001b[0;34m.\u001b[0m\u001b[0mplot\u001b[0m\u001b[0;34m)\u001b[0m\u001b[0;34m\u001b[0m\u001b[0;34m\u001b[0m\u001b[0m\n\u001b[1;32m   2987\u001b[0m \u001b[0;32mdef\u001b[0m \u001b[0mplot\u001b[0m\u001b[0;34m(\u001b[0m\u001b[0;34m*\u001b[0m\u001b[0margs\u001b[0m\u001b[0;34m,\u001b[0m \u001b[0mscalex\u001b[0m\u001b[0;34m=\u001b[0m\u001b[0;32mTrue\u001b[0m\u001b[0;34m,\u001b[0m \u001b[0mscaley\u001b[0m\u001b[0;34m=\u001b[0m\u001b[0;32mTrue\u001b[0m\u001b[0;34m,\u001b[0m \u001b[0mdata\u001b[0m\u001b[0;34m=\u001b[0m\u001b[0;32mNone\u001b[0m\u001b[0;34m,\u001b[0m \u001b[0;34m**\u001b[0m\u001b[0mkwargs\u001b[0m\u001b[0;34m)\u001b[0m\u001b[0;34m:\u001b[0m\u001b[0;34m\u001b[0m\u001b[0;34m\u001b[0m\u001b[0m\n\u001b[0;32m-> 2988\u001b[0;31m     return gca().plot(\n\u001b[0m\u001b[1;32m   2989\u001b[0m         \u001b[0;34m*\u001b[0m\u001b[0margs\u001b[0m\u001b[0;34m,\u001b[0m \u001b[0mscalex\u001b[0m\u001b[0;34m=\u001b[0m\u001b[0mscalex\u001b[0m\u001b[0;34m,\u001b[0m \u001b[0mscaley\u001b[0m\u001b[0;34m=\u001b[0m\u001b[0mscaley\u001b[0m\u001b[0;34m,\u001b[0m\u001b[0;34m\u001b[0m\u001b[0;34m\u001b[0m\u001b[0m\n\u001b[1;32m   2990\u001b[0m         **({\"data\": data} if data is not None else {}), **kwargs)\n",
      "\u001b[0;32m~/.local/lib/python3.8/site-packages/matplotlib/axes/_axes.py\u001b[0m in \u001b[0;36mplot\u001b[0;34m(self, scalex, scaley, data, *args, **kwargs)\u001b[0m\n\u001b[1;32m   1603\u001b[0m         \"\"\"\n\u001b[1;32m   1604\u001b[0m         \u001b[0mkwargs\u001b[0m \u001b[0;34m=\u001b[0m \u001b[0mcbook\u001b[0m\u001b[0;34m.\u001b[0m\u001b[0mnormalize_kwargs\u001b[0m\u001b[0;34m(\u001b[0m\u001b[0mkwargs\u001b[0m\u001b[0;34m,\u001b[0m \u001b[0mmlines\u001b[0m\u001b[0;34m.\u001b[0m\u001b[0mLine2D\u001b[0m\u001b[0;34m)\u001b[0m\u001b[0;34m\u001b[0m\u001b[0;34m\u001b[0m\u001b[0m\n\u001b[0;32m-> 1605\u001b[0;31m         \u001b[0mlines\u001b[0m \u001b[0;34m=\u001b[0m \u001b[0;34m[\u001b[0m\u001b[0;34m*\u001b[0m\u001b[0mself\u001b[0m\u001b[0;34m.\u001b[0m\u001b[0m_get_lines\u001b[0m\u001b[0;34m(\u001b[0m\u001b[0;34m*\u001b[0m\u001b[0margs\u001b[0m\u001b[0;34m,\u001b[0m \u001b[0mdata\u001b[0m\u001b[0;34m=\u001b[0m\u001b[0mdata\u001b[0m\u001b[0;34m,\u001b[0m \u001b[0;34m**\u001b[0m\u001b[0mkwargs\u001b[0m\u001b[0;34m)\u001b[0m\u001b[0;34m]\u001b[0m\u001b[0;34m\u001b[0m\u001b[0;34m\u001b[0m\u001b[0m\n\u001b[0m\u001b[1;32m   1606\u001b[0m         \u001b[0;32mfor\u001b[0m \u001b[0mline\u001b[0m \u001b[0;32min\u001b[0m \u001b[0mlines\u001b[0m\u001b[0;34m:\u001b[0m\u001b[0;34m\u001b[0m\u001b[0;34m\u001b[0m\u001b[0m\n\u001b[1;32m   1607\u001b[0m             \u001b[0mself\u001b[0m\u001b[0;34m.\u001b[0m\u001b[0madd_line\u001b[0m\u001b[0;34m(\u001b[0m\u001b[0mline\u001b[0m\u001b[0;34m)\u001b[0m\u001b[0;34m\u001b[0m\u001b[0;34m\u001b[0m\u001b[0m\n",
      "\u001b[0;32m~/.local/lib/python3.8/site-packages/matplotlib/axes/_base.py\u001b[0m in \u001b[0;36m__call__\u001b[0;34m(self, data, *args, **kwargs)\u001b[0m\n\u001b[1;32m    313\u001b[0m                 \u001b[0mthis\u001b[0m \u001b[0;34m+=\u001b[0m \u001b[0margs\u001b[0m\u001b[0;34m[\u001b[0m\u001b[0;36m0\u001b[0m\u001b[0;34m]\u001b[0m\u001b[0;34m,\u001b[0m\u001b[0;34m\u001b[0m\u001b[0;34m\u001b[0m\u001b[0m\n\u001b[1;32m    314\u001b[0m                 \u001b[0margs\u001b[0m \u001b[0;34m=\u001b[0m \u001b[0margs\u001b[0m\u001b[0;34m[\u001b[0m\u001b[0;36m1\u001b[0m\u001b[0;34m:\u001b[0m\u001b[0;34m]\u001b[0m\u001b[0;34m\u001b[0m\u001b[0;34m\u001b[0m\u001b[0m\n\u001b[0;32m--> 315\u001b[0;31m             \u001b[0;32myield\u001b[0m \u001b[0;32mfrom\u001b[0m \u001b[0mself\u001b[0m\u001b[0;34m.\u001b[0m\u001b[0m_plot_args\u001b[0m\u001b[0;34m(\u001b[0m\u001b[0mthis\u001b[0m\u001b[0;34m,\u001b[0m \u001b[0mkwargs\u001b[0m\u001b[0;34m)\u001b[0m\u001b[0;34m\u001b[0m\u001b[0;34m\u001b[0m\u001b[0m\n\u001b[0m\u001b[1;32m    316\u001b[0m \u001b[0;34m\u001b[0m\u001b[0m\n\u001b[1;32m    317\u001b[0m     \u001b[0;32mdef\u001b[0m \u001b[0mget_next_color\u001b[0m\u001b[0;34m(\u001b[0m\u001b[0mself\u001b[0m\u001b[0;34m)\u001b[0m\u001b[0;34m:\u001b[0m\u001b[0;34m\u001b[0m\u001b[0;34m\u001b[0m\u001b[0m\n",
      "\u001b[0;32m~/.local/lib/python3.8/site-packages/matplotlib/axes/_base.py\u001b[0m in \u001b[0;36m_plot_args\u001b[0;34m(self, tup, kwargs, return_kwargs)\u001b[0m\n\u001b[1;32m    502\u001b[0m                              f\"have shapes {x.shape} and {y.shape}\")\n\u001b[1;32m    503\u001b[0m         \u001b[0;32mif\u001b[0m \u001b[0mx\u001b[0m\u001b[0;34m.\u001b[0m\u001b[0mndim\u001b[0m \u001b[0;34m>\u001b[0m \u001b[0;36m2\u001b[0m \u001b[0;32mor\u001b[0m \u001b[0my\u001b[0m\u001b[0;34m.\u001b[0m\u001b[0mndim\u001b[0m \u001b[0;34m>\u001b[0m \u001b[0;36m2\u001b[0m\u001b[0;34m:\u001b[0m\u001b[0;34m\u001b[0m\u001b[0;34m\u001b[0m\u001b[0m\n\u001b[0;32m--> 504\u001b[0;31m             raise ValueError(f\"x and y can be no greater than 2D, but have \"\n\u001b[0m\u001b[1;32m    505\u001b[0m                              f\"shapes {x.shape} and {y.shape}\")\n\u001b[1;32m    506\u001b[0m         \u001b[0;32mif\u001b[0m \u001b[0mx\u001b[0m\u001b[0;34m.\u001b[0m\u001b[0mndim\u001b[0m \u001b[0;34m==\u001b[0m \u001b[0;36m1\u001b[0m\u001b[0;34m:\u001b[0m\u001b[0;34m\u001b[0m\u001b[0;34m\u001b[0m\u001b[0m\n",
      "\u001b[0;31mValueError\u001b[0m: x and y can be no greater than 2D, but have shapes (1,) and (1, 60, 1)"
     ]
    },
    {
     "data": {
      "image/png": "[encoded data removed]",
      "text/plain": [
       "<Figure size 432x288 with 1 Axes>"
      ]
     },
     "metadata": {},
     "output_type": "display_data"
    }
   ],
   "source": [
    "plt.plot(pred_signals)\n",
    "plt.plot(y_test)\n",
    "plt.show()"
   ]
  },
  {
   "cell_type": "code",
   "execution_count": null,
   "id": "3417869d",
   "metadata": {},
   "outputs": [],
   "source": []
  },
  {
   "cell_type": "code",
   "execution_count": null,
   "id": "14fbfda2",
   "metadata": {},
   "outputs": [],
   "source": [
    "https://www.kaggle.com/thebrownviking20/intro-to-recurrent-neural-networks-lstm-gru/comments"
   ]
  }
 ],
 "metadata": {
  "kernelspec": {
   "display_name": "Python 3",
   "language": "python",
   "name": "python3"
  },
  "language_info": {
   "codemirror_mode": {
    "name": "ipython",
    "version": 3
   },
   "file_extension": ".py",
   "mimetype": "text/x-python",
   "name": "python",
   "nbconvert_exporter": "python",
   "pygments_lexer": "ipython3",
   "version": "3.8.5"
  }
 },
 "nbformat": 4,
 "nbformat_minor": 5
}
